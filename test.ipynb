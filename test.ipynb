{
 "cells": [
  {
   "cell_type": "code",
   "execution_count": 4,
   "source": [
    "import pickle\n",
    "import numpy as np\n",
    "\n",
    "\n",
    "results = pickle.load(open('channel_test_results.bin','rb'))\n",
    "print(results)"
   ],
   "outputs": [
    {
     "output_type": "stream",
     "name": "stdout",
     "text": [
      "{'1 big 0.1': {0: 0.9225418191207083, 1: 0.9225744275670302, 2: 0.9224075643639815, 3: 0.9214928777594316}, '1 big 0.2': {0: 0.9394238481396123, 1: 0.9383721916299117, 2: 0.9393076630015122, 3: 0.9384644157008121}, '1 small 0.1': {0: 0.953770449287013, 1: 0.9532952073373293, 2: 0.9530622018010992, 3: 0.9524998853081151}, '1 small 0.2': {0: 0.8671296819260246, 1: 0.866835986313067, 2: 0.8660030192450473, 3: 0.8646144490492972}, '2 big 0.1': {0: 0.9609414056727761, 1: 0.9590967940656763, 2: 0.956935747673637, 3: 0.9563024138149462}, '2 big 0.2': {0: 0.8859836694441343, 1: 0.8855467375956083, 2: 0.8860617970165453, 3: 0.8858789064382252}, '2 small 0.1': {0: 0.9553497292493519, 1: 0.9541700921560589, 2: 0.9529955496913508, 3: 0.9512684455043391}, '2 small 0.2': {0: 0.947525585952558, 1: 0.9472027436683053, 2: 0.9467427777616602, 3: 0.9460271016547555}}\n"
     ]
    }
   ],
   "metadata": {}
  },
  {
   "cell_type": "code",
   "execution_count": 6,
   "source": [
    "for cat in results:\n",
    "    print(cat)\n",
    "    scores = [results[cat][i] for i in results[cat]]\n",
    "    print(np.mean(scores))\n",
    "\n",
    "# s11\n",
    "# b21\n",
    "# s22\n",
    "# "
   ],
   "outputs": [
    {
     "output_type": "stream",
     "name": "stdout",
     "text": [
      "1 big 0.1\n",
      "0.9222541722027879\n",
      "1 big 0.2\n",
      "0.9388920296179621\n",
      "1 small 0.1\n",
      "0.9531569359333891\n",
      "1 small 0.2\n",
      "0.8661457841333591\n",
      "2 big 0.1\n",
      "0.9583190903067589\n",
      "2 big 0.2\n",
      "0.8858677776236283\n",
      "2 small 0.1\n",
      "0.9534459541502751\n",
      "2 small 0.2\n",
      "0.9468745522593198\n"
     ]
    }
   ],
   "metadata": {}
  },
  {
   "cell_type": "code",
   "execution_count": null,
   "source": [
    "# "
   ],
   "outputs": [],
   "metadata": {}
  }
 ],
 "metadata": {
  "orig_nbformat": 4,
  "language_info": {
   "name": "python",
   "version": "3.9.7",
   "mimetype": "text/x-python",
   "codemirror_mode": {
    "name": "ipython",
    "version": 3
   },
   "pygments_lexer": "ipython3",
   "nbconvert_exporter": "python",
   "file_extension": ".py"
  },
  "kernelspec": {
   "name": "python3",
   "display_name": "Python 3.9.7 64-bit"
  },
  "interpreter": {
   "hash": "31f2aee4e71d21fbe5cf8b01ff0e069b9275f58929596ceb00d14d90e3e16cd6"
  }
 },
 "nbformat": 4,
 "nbformat_minor": 2
}